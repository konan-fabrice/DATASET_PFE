{
 "cells": [
  {
   "cell_type": "code",
   "execution_count": null,
   "metadata": {
    "id": "p6Oc5MtfdMcB"
   },
   "outputs": [],
   "source": []
  },
  {
   "cell_type": "code",
   "execution_count": 52,
   "metadata": {
    "id": "ZELPunYsgy0C"
   },
   "outputs": [],
   "source": [
    "#Importation des bibliothèques\n",
    "import pandas as pd\n",
    "import numpy as np\n",
    "import matplotlib.pyplot as plt\n",
    "import seaborn as sns\n",
    "#Implémentation du modèle\n",
    "from sklearn.model_selection import train_test_split\n",
    "from sklearn.linear_model import LinearRegression\n",
    "from sklearn.metrics import mean_squared_error, r2_score, mean_absolute_error, root_mean_squared_error, mean_absolute_percentage_error\n",
    "from sklearn.preprocessing import LabelEncoder\n",
    "#Normalissation\n",
    "from sklearn.preprocessing import MinMaxScaler\n",
    "from sklearn.preprocessing import StandardScaler\n",
    "from sklearn.metrics import accuracy_score, precision_score, recall_score, f1_score, confusion_matrix\n",
    "from sklearn.svm import SVR"
   ]
  },
  {
   "cell_type": "code",
   "execution_count": 4,
   "metadata": {
    "id": "6aD399kVhALx"
   },
   "outputs": [],
   "source": [
    "#Chargement du dataset\n",
    "df = pd.read_excel('Ecriturecompte.xlsx')"
   ]
  },
  {
   "cell_type": "code",
   "execution_count": 5,
   "metadata": {
    "colab": {
     "base_uri": "https://localhost:8080/",
     "height": 310
    },
    "id": "CA8m94kzk1uX",
    "outputId": "1972e39e-7ec2-40f7-a01a-b606a76aef46"
   },
   "outputs": [
    {
     "data": {
      "text/html": [
       "<div>\n",
       "<style scoped>\n",
       "    .dataframe tbody tr th:only-of-type {\n",
       "        vertical-align: middle;\n",
       "    }\n",
       "\n",
       "    .dataframe tbody tr th {\n",
       "        vertical-align: top;\n",
       "    }\n",
       "\n",
       "    .dataframe thead th {\n",
       "        text-align: right;\n",
       "    }\n",
       "</style>\n",
       "<table border=\"1\" class=\"dataframe\">\n",
       "  <thead>\n",
       "    <tr style=\"text-align: right;\">\n",
       "      <th></th>\n",
       "      <th>PFE</th>\n",
       "      <th>Écriture comptable article</th>\n",
       "      <th>32</th>\n",
       "      <th>Unnamed: 3</th>\n",
       "      <th>Unnamed: 4</th>\n",
       "      <th>Unnamed: 5</th>\n",
       "    </tr>\n",
       "  </thead>\n",
       "  <tbody>\n",
       "    <tr>\n",
       "      <th>0</th>\n",
       "      <td>NaN</td>\n",
       "      <td>NaN</td>\n",
       "      <td>NaN</td>\n",
       "      <td>NaN</td>\n",
       "      <td>NaN</td>\n",
       "      <td>NaN</td>\n",
       "    </tr>\n",
       "    <tr>\n",
       "      <th>1</th>\n",
       "      <td>N° séquence</td>\n",
       "      <td>N° article</td>\n",
       "      <td>Date comptabilisation</td>\n",
       "      <td>Type écriture</td>\n",
       "      <td>Quantité</td>\n",
       "      <td>Type document</td>\n",
       "    </tr>\n",
       "    <tr>\n",
       "      <th>2</th>\n",
       "      <td>1</td>\n",
       "      <td>PI106</td>\n",
       "      <td>2021-04-01</td>\n",
       "      <td>Vente</td>\n",
       "      <td>-18.3</td>\n",
       "      <td>Expédition vente</td>\n",
       "    </tr>\n",
       "    <tr>\n",
       "      <th>3</th>\n",
       "      <td>2</td>\n",
       "      <td>70298</td>\n",
       "      <td>2021-04-01</td>\n",
       "      <td>Vente</td>\n",
       "      <td>-324.29</td>\n",
       "      <td>Expédition vente</td>\n",
       "    </tr>\n",
       "    <tr>\n",
       "      <th>4</th>\n",
       "      <td>3</td>\n",
       "      <td>RO047</td>\n",
       "      <td>2021-04-01</td>\n",
       "      <td>Vente</td>\n",
       "      <td>-204</td>\n",
       "      <td>Expédition vente</td>\n",
       "    </tr>\n",
       "  </tbody>\n",
       "</table>\n",
       "</div>"
      ],
      "text/plain": [
       "           PFE Écriture comptable article                     32  \\\n",
       "0          NaN                        NaN                    NaN   \n",
       "1  N° séquence                 N° article  Date comptabilisation   \n",
       "2            1                      PI106             2021-04-01   \n",
       "3            2                      70298             2021-04-01   \n",
       "4            3                      RO047             2021-04-01   \n",
       "\n",
       "      Unnamed: 3 Unnamed: 4        Unnamed: 5  \n",
       "0            NaN        NaN               NaN  \n",
       "1  Type écriture   Quantité     Type document  \n",
       "2          Vente      -18.3  Expédition vente  \n",
       "3          Vente    -324.29  Expédition vente  \n",
       "4          Vente       -204  Expédition vente  "
      ]
     },
     "execution_count": 5,
     "metadata": {},
     "output_type": "execute_result"
    }
   ],
   "source": [
    "df.head(5)"
   ]
  },
  {
   "cell_type": "code",
   "execution_count": 6,
   "metadata": {
    "id": "3Iq07dkUThPO"
   },
   "outputs": [],
   "source": [
    "df_copie = df.copy()"
   ]
  },
  {
   "cell_type": "code",
   "execution_count": 7,
   "metadata": {
    "colab": {
     "base_uri": "https://localhost:8080/",
     "height": 206
    },
    "id": "d89moj_ojRdD",
    "outputId": "17e08c39-23ad-4a1a-92aa-a20dc5060c1c"
   },
   "outputs": [
    {
     "data": {
      "text/html": [
       "<div>\n",
       "<style scoped>\n",
       "    .dataframe tbody tr th:only-of-type {\n",
       "        vertical-align: middle;\n",
       "    }\n",
       "\n",
       "    .dataframe tbody tr th {\n",
       "        vertical-align: top;\n",
       "    }\n",
       "\n",
       "    .dataframe thead th {\n",
       "        text-align: right;\n",
       "    }\n",
       "</style>\n",
       "<table border=\"1\" class=\"dataframe\">\n",
       "  <thead>\n",
       "    <tr style=\"text-align: right;\">\n",
       "      <th></th>\n",
       "      <th>PFE</th>\n",
       "      <th>PRODUIT</th>\n",
       "      <th>PERIODE</th>\n",
       "      <th>Unnamed: 3</th>\n",
       "      <th>QUANTITE</th>\n",
       "      <th>Unnamed: 5</th>\n",
       "    </tr>\n",
       "  </thead>\n",
       "  <tbody>\n",
       "    <tr>\n",
       "      <th>0</th>\n",
       "      <td>1</td>\n",
       "      <td>PI106</td>\n",
       "      <td>2021-04-01</td>\n",
       "      <td>Vente</td>\n",
       "      <td>-18.30</td>\n",
       "      <td>Expédition vente</td>\n",
       "    </tr>\n",
       "    <tr>\n",
       "      <th>1</th>\n",
       "      <td>2</td>\n",
       "      <td>70298</td>\n",
       "      <td>2021-04-01</td>\n",
       "      <td>Vente</td>\n",
       "      <td>-324.29</td>\n",
       "      <td>Expédition vente</td>\n",
       "    </tr>\n",
       "    <tr>\n",
       "      <th>2</th>\n",
       "      <td>3</td>\n",
       "      <td>RO047</td>\n",
       "      <td>2021-04-01</td>\n",
       "      <td>Vente</td>\n",
       "      <td>-204.00</td>\n",
       "      <td>Expédition vente</td>\n",
       "    </tr>\n",
       "    <tr>\n",
       "      <th>3</th>\n",
       "      <td>4</td>\n",
       "      <td>RO060</td>\n",
       "      <td>2021-04-01</td>\n",
       "      <td>Vente</td>\n",
       "      <td>-150.00</td>\n",
       "      <td>Expédition vente</td>\n",
       "    </tr>\n",
       "    <tr>\n",
       "      <th>4</th>\n",
       "      <td>5</td>\n",
       "      <td>70223</td>\n",
       "      <td>2021-04-01</td>\n",
       "      <td>Vente</td>\n",
       "      <td>-109.89</td>\n",
       "      <td>Expédition vente</td>\n",
       "    </tr>\n",
       "  </tbody>\n",
       "</table>\n",
       "</div>"
      ],
      "text/plain": [
       "  PFE PRODUIT     PERIODE Unnamed: 3  QUANTITE        Unnamed: 5\n",
       "0   1   PI106  2021-04-01      Vente    -18.30  Expédition vente\n",
       "1   2   70298  2021-04-01      Vente   -324.29  Expédition vente\n",
       "2   3   RO047  2021-04-01      Vente   -204.00  Expédition vente\n",
       "3   4   RO060  2021-04-01      Vente   -150.00  Expédition vente\n",
       "4   5   70223  2021-04-01      Vente   -109.89  Expédition vente"
      ]
     },
     "execution_count": 7,
     "metadata": {},
     "output_type": "execute_result"
    }
   ],
   "source": [
    "df = df.iloc[2:]\n",
    "# Réinitialiser l'index\n",
    "df = df.reset_index(drop=True)\n",
    "df.head()\n",
    "#Renommer les colonnes\n",
    "df=df.rename(columns={f'{df.columns.values[1]}': 'PRODUIT'})\n",
    "df=df.rename(columns={f'{df.columns.values[2]}': 'PERIODE'})\n",
    "df=df.rename(columns={f'{df.columns.values[4]}': 'QUANTITE'})\n",
    "df['QUANTITE']=df['QUANTITE'].astype(float)\n",
    "df.head(5)"
   ]
  },
  {
   "cell_type": "code",
   "execution_count": 8,
   "metadata": {
    "colab": {
     "base_uri": "https://localhost:8080/",
     "height": 206
    },
    "id": "S5BcPPTPloSb",
    "outputId": "0b1b7e5a-ef5a-43b2-80dd-a28b489f002d"
   },
   "outputs": [
    {
     "data": {
      "text/html": [
       "<div>\n",
       "<style scoped>\n",
       "    .dataframe tbody tr th:only-of-type {\n",
       "        vertical-align: middle;\n",
       "    }\n",
       "\n",
       "    .dataframe tbody tr th {\n",
       "        vertical-align: top;\n",
       "    }\n",
       "\n",
       "    .dataframe thead th {\n",
       "        text-align: right;\n",
       "    }\n",
       "</style>\n",
       "<table border=\"1\" class=\"dataframe\">\n",
       "  <thead>\n",
       "    <tr style=\"text-align: right;\">\n",
       "      <th></th>\n",
       "      <th>PRODUIT</th>\n",
       "      <th>PERIODE</th>\n",
       "      <th>QUANTITE</th>\n",
       "    </tr>\n",
       "  </thead>\n",
       "  <tbody>\n",
       "    <tr>\n",
       "      <th>0</th>\n",
       "      <td>PI106</td>\n",
       "      <td>2021-04-01</td>\n",
       "      <td>-18.30</td>\n",
       "    </tr>\n",
       "    <tr>\n",
       "      <th>1</th>\n",
       "      <td>70298</td>\n",
       "      <td>2021-04-01</td>\n",
       "      <td>-324.29</td>\n",
       "    </tr>\n",
       "    <tr>\n",
       "      <th>2</th>\n",
       "      <td>RO047</td>\n",
       "      <td>2021-04-01</td>\n",
       "      <td>-204.00</td>\n",
       "    </tr>\n",
       "    <tr>\n",
       "      <th>3</th>\n",
       "      <td>RO060</td>\n",
       "      <td>2021-04-01</td>\n",
       "      <td>-150.00</td>\n",
       "    </tr>\n",
       "    <tr>\n",
       "      <th>4</th>\n",
       "      <td>70223</td>\n",
       "      <td>2021-04-01</td>\n",
       "      <td>-109.89</td>\n",
       "    </tr>\n",
       "  </tbody>\n",
       "</table>\n",
       "</div>"
      ],
      "text/plain": [
       "  PRODUIT     PERIODE  QUANTITE\n",
       "0   PI106  2021-04-01    -18.30\n",
       "1   70298  2021-04-01   -324.29\n",
       "2   RO047  2021-04-01   -204.00\n",
       "3   RO060  2021-04-01   -150.00\n",
       "4   70223  2021-04-01   -109.89"
      ]
     },
     "execution_count": 8,
     "metadata": {},
     "output_type": "execute_result"
    }
   ],
   "source": [
    "#Sélection des colones\n",
    "df=df[['PRODUIT','PERIODE','QUANTITE']]\n",
    "df.head(5)"
   ]
  },
  {
   "cell_type": "code",
   "execution_count": 9,
   "metadata": {
    "colab": {
     "base_uri": "https://localhost:8080/",
     "height": 206
    },
    "id": "HRG-Z0oumo0g",
    "outputId": "c3791969-7770-44fe-d723-62edab1d97c5"
   },
   "outputs": [
    {
     "data": {
      "text/html": [
       "<div>\n",
       "<style scoped>\n",
       "    .dataframe tbody tr th:only-of-type {\n",
       "        vertical-align: middle;\n",
       "    }\n",
       "\n",
       "    .dataframe tbody tr th {\n",
       "        vertical-align: top;\n",
       "    }\n",
       "\n",
       "    .dataframe thead th {\n",
       "        text-align: right;\n",
       "    }\n",
       "</style>\n",
       "<table border=\"1\" class=\"dataframe\">\n",
       "  <thead>\n",
       "    <tr style=\"text-align: right;\">\n",
       "      <th></th>\n",
       "      <th>PRODUIT</th>\n",
       "      <th>PERIODE</th>\n",
       "      <th>QUANTITE</th>\n",
       "    </tr>\n",
       "  </thead>\n",
       "  <tbody>\n",
       "    <tr>\n",
       "      <th>0</th>\n",
       "      <td>PI106</td>\n",
       "      <td>2021-04-01</td>\n",
       "      <td>18.30</td>\n",
       "    </tr>\n",
       "    <tr>\n",
       "      <th>1</th>\n",
       "      <td>70298</td>\n",
       "      <td>2021-04-01</td>\n",
       "      <td>324.29</td>\n",
       "    </tr>\n",
       "    <tr>\n",
       "      <th>2</th>\n",
       "      <td>RO047</td>\n",
       "      <td>2021-04-01</td>\n",
       "      <td>204.00</td>\n",
       "    </tr>\n",
       "    <tr>\n",
       "      <th>3</th>\n",
       "      <td>RO060</td>\n",
       "      <td>2021-04-01</td>\n",
       "      <td>150.00</td>\n",
       "    </tr>\n",
       "    <tr>\n",
       "      <th>4</th>\n",
       "      <td>70223</td>\n",
       "      <td>2021-04-01</td>\n",
       "      <td>109.89</td>\n",
       "    </tr>\n",
       "  </tbody>\n",
       "</table>\n",
       "</div>"
      ],
      "text/plain": [
       "  PRODUIT     PERIODE  QUANTITE\n",
       "0   PI106  2021-04-01     18.30\n",
       "1   70298  2021-04-01    324.29\n",
       "2   RO047  2021-04-01    204.00\n",
       "3   RO060  2021-04-01    150.00\n",
       "4   70223  2021-04-01    109.89"
      ]
     },
     "execution_count": 9,
     "metadata": {},
     "output_type": "execute_result"
    }
   ],
   "source": [
    "#Rendre les quantité positives\n",
    "df['QUANTITE'] = np.abs(df['QUANTITE'])\n",
    "df.head(5)"
   ]
  },
  {
   "cell_type": "code",
   "execution_count": 10,
   "metadata": {
    "colab": {
     "base_uri": "https://localhost:8080/",
     "height": 543
    },
    "id": "kHp3r1exqVOX",
    "outputId": "b2647e79-a95a-4d35-abf1-17bcd4d16062"
   },
   "outputs": [
    {
     "name": "stdout",
     "output_type": "stream",
     "text": [
      "<class 'pandas.core.frame.DataFrame'>\n",
      "RangeIndex: 180070 entries, 0 to 180069\n",
      "Data columns (total 3 columns):\n",
      " #   Column    Non-Null Count   Dtype  \n",
      "---  ------    --------------   -----  \n",
      " 0   PRODUIT   180070 non-null  object \n",
      " 1   PERIODE   180070 non-null  object \n",
      " 2   QUANTITE  180070 non-null  float64\n",
      "dtypes: float64(1), object(2)\n",
      "memory usage: 4.1+ MB\n",
      "PRODUIT     0\n",
      "PERIODE     0\n",
      "QUANTITE    0\n",
      "dtype: int64\n"
     ]
    },
    {
     "data": {
      "text/html": [
       "<div>\n",
       "<style scoped>\n",
       "    .dataframe tbody tr th:only-of-type {\n",
       "        vertical-align: middle;\n",
       "    }\n",
       "\n",
       "    .dataframe tbody tr th {\n",
       "        vertical-align: top;\n",
       "    }\n",
       "\n",
       "    .dataframe thead th {\n",
       "        text-align: right;\n",
       "    }\n",
       "</style>\n",
       "<table border=\"1\" class=\"dataframe\">\n",
       "  <thead>\n",
       "    <tr style=\"text-align: right;\">\n",
       "      <th></th>\n",
       "      <th>QUANTITE</th>\n",
       "    </tr>\n",
       "  </thead>\n",
       "  <tbody>\n",
       "    <tr>\n",
       "      <th>count</th>\n",
       "      <td>180070.000000</td>\n",
       "    </tr>\n",
       "    <tr>\n",
       "      <th>mean</th>\n",
       "      <td>298.424044</td>\n",
       "    </tr>\n",
       "    <tr>\n",
       "      <th>std</th>\n",
       "      <td>1134.336889</td>\n",
       "    </tr>\n",
       "    <tr>\n",
       "      <th>min</th>\n",
       "      <td>0.004880</td>\n",
       "    </tr>\n",
       "    <tr>\n",
       "      <th>25%</th>\n",
       "      <td>30.000000</td>\n",
       "    </tr>\n",
       "    <tr>\n",
       "      <th>50%</th>\n",
       "      <td>80.000000</td>\n",
       "    </tr>\n",
       "    <tr>\n",
       "      <th>75%</th>\n",
       "      <td>210.237500</td>\n",
       "    </tr>\n",
       "    <tr>\n",
       "      <th>max</th>\n",
       "      <td>178000.000000</td>\n",
       "    </tr>\n",
       "  </tbody>\n",
       "</table>\n",
       "</div>"
      ],
      "text/plain": [
       "            QUANTITE\n",
       "count  180070.000000\n",
       "mean      298.424044\n",
       "std      1134.336889\n",
       "min         0.004880\n",
       "25%        30.000000\n",
       "50%        80.000000\n",
       "75%       210.237500\n",
       "max    178000.000000"
      ]
     },
     "execution_count": 10,
     "metadata": {},
     "output_type": "execute_result"
    }
   ],
   "source": [
    "df.info()\n",
    "print(df.isnull().sum())\n",
    "df.describe()"
   ]
  },
  {
   "cell_type": "code",
   "execution_count": 11,
   "metadata": {
    "colab": {
     "base_uri": "https://localhost:8080/",
     "height": 206
    },
    "id": "gy6oHJla5-Pi",
    "outputId": "dbe1af34-635f-49ee-e8e1-f0709e88c9f8"
   },
   "outputs": [
    {
     "data": {
      "text/html": [
       "<div>\n",
       "<style scoped>\n",
       "    .dataframe tbody tr th:only-of-type {\n",
       "        vertical-align: middle;\n",
       "    }\n",
       "\n",
       "    .dataframe tbody tr th {\n",
       "        vertical-align: top;\n",
       "    }\n",
       "\n",
       "    .dataframe thead th {\n",
       "        text-align: right;\n",
       "    }\n",
       "</style>\n",
       "<table border=\"1\" class=\"dataframe\">\n",
       "  <thead>\n",
       "    <tr style=\"text-align: right;\">\n",
       "      <th></th>\n",
       "      <th>PRODUIT</th>\n",
       "      <th>PERIODE</th>\n",
       "      <th>QUANTITE</th>\n",
       "    </tr>\n",
       "  </thead>\n",
       "  <tbody>\n",
       "    <tr>\n",
       "      <th>0</th>\n",
       "      <td>PI106</td>\n",
       "      <td>2021-04-01</td>\n",
       "      <td>18.30</td>\n",
       "    </tr>\n",
       "    <tr>\n",
       "      <th>1</th>\n",
       "      <td>70298</td>\n",
       "      <td>2021-04-01</td>\n",
       "      <td>324.29</td>\n",
       "    </tr>\n",
       "    <tr>\n",
       "      <th>2</th>\n",
       "      <td>RO047</td>\n",
       "      <td>2021-04-01</td>\n",
       "      <td>204.00</td>\n",
       "    </tr>\n",
       "    <tr>\n",
       "      <th>3</th>\n",
       "      <td>RO060</td>\n",
       "      <td>2021-04-01</td>\n",
       "      <td>150.00</td>\n",
       "    </tr>\n",
       "    <tr>\n",
       "      <th>4</th>\n",
       "      <td>70223</td>\n",
       "      <td>2021-04-01</td>\n",
       "      <td>109.89</td>\n",
       "    </tr>\n",
       "  </tbody>\n",
       "</table>\n",
       "</div>"
      ],
      "text/plain": [
       "  PRODUIT     PERIODE  QUANTITE\n",
       "0   PI106  2021-04-01     18.30\n",
       "1   70298  2021-04-01    324.29\n",
       "2   RO047  2021-04-01    204.00\n",
       "3   RO060  2021-04-01    150.00\n",
       "4   70223  2021-04-01    109.89"
      ]
     },
     "execution_count": 11,
     "metadata": {},
     "output_type": "execute_result"
    }
   ],
   "source": [
    "df.head(5)"
   ]
  },
  {
   "cell_type": "code",
   "execution_count": 12,
   "metadata": {
    "colab": {
     "base_uri": "https://localhost:8080/",
     "height": 206
    },
    "id": "Lyh_0na82LjX",
    "outputId": "b7dbbb6b-62c5-4e70-e77b-735151f83790"
   },
   "outputs": [
    {
     "data": {
      "text/html": [
       "<div>\n",
       "<style scoped>\n",
       "    .dataframe tbody tr th:only-of-type {\n",
       "        vertical-align: middle;\n",
       "    }\n",
       "\n",
       "    .dataframe tbody tr th {\n",
       "        vertical-align: top;\n",
       "    }\n",
       "\n",
       "    .dataframe thead th {\n",
       "        text-align: right;\n",
       "    }\n",
       "</style>\n",
       "<table border=\"1\" class=\"dataframe\">\n",
       "  <thead>\n",
       "    <tr style=\"text-align: right;\">\n",
       "      <th></th>\n",
       "      <th>PRODUIT</th>\n",
       "      <th>PERIODE</th>\n",
       "      <th>QUANTITE</th>\n",
       "    </tr>\n",
       "  </thead>\n",
       "  <tbody>\n",
       "    <tr>\n",
       "      <th>0</th>\n",
       "      <td>PI106</td>\n",
       "      <td>4</td>\n",
       "      <td>18.30</td>\n",
       "    </tr>\n",
       "    <tr>\n",
       "      <th>1</th>\n",
       "      <td>70298</td>\n",
       "      <td>4</td>\n",
       "      <td>324.29</td>\n",
       "    </tr>\n",
       "    <tr>\n",
       "      <th>2</th>\n",
       "      <td>RO047</td>\n",
       "      <td>4</td>\n",
       "      <td>204.00</td>\n",
       "    </tr>\n",
       "    <tr>\n",
       "      <th>3</th>\n",
       "      <td>RO060</td>\n",
       "      <td>4</td>\n",
       "      <td>150.00</td>\n",
       "    </tr>\n",
       "    <tr>\n",
       "      <th>4</th>\n",
       "      <td>70223</td>\n",
       "      <td>4</td>\n",
       "      <td>109.89</td>\n",
       "    </tr>\n",
       "  </tbody>\n",
       "</table>\n",
       "</div>"
      ],
      "text/plain": [
       "  PRODUIT  PERIODE  QUANTITE\n",
       "0   PI106        4     18.30\n",
       "1   70298        4    324.29\n",
       "2   RO047        4    204.00\n",
       "3   RO060        4    150.00\n",
       "4   70223        4    109.89"
      ]
     },
     "execution_count": 12,
     "metadata": {},
     "output_type": "execute_result"
    }
   ],
   "source": [
    "df['PERIODE']=pd.to_datetime(df['PERIODE'])\n",
    "df['PERIODE']=df['PERIODE'].dt.month\n",
    "df.head(5)"
   ]
  },
  {
   "cell_type": "code",
   "execution_count": 13,
   "metadata": {
    "id": "Iz_sse250PmR"
   },
   "outputs": [],
   "source": [
    "label_encoder = LabelEncoder()\n",
    "df['PRODUIT_ENCODED'] = label_encoder.fit_transform(df['PRODUIT'])"
   ]
  },
  {
   "cell_type": "code",
   "execution_count": 14,
   "metadata": {
    "colab": {
     "base_uri": "https://localhost:8080/",
     "height": 206
    },
    "id": "6EG3PKHnT3-W",
    "outputId": "3f95c465-c432-4ce4-e140-1c633bdde623"
   },
   "outputs": [
    {
     "data": {
      "text/html": [
       "<div>\n",
       "<style scoped>\n",
       "    .dataframe tbody tr th:only-of-type {\n",
       "        vertical-align: middle;\n",
       "    }\n",
       "\n",
       "    .dataframe tbody tr th {\n",
       "        vertical-align: top;\n",
       "    }\n",
       "\n",
       "    .dataframe thead th {\n",
       "        text-align: right;\n",
       "    }\n",
       "</style>\n",
       "<table border=\"1\" class=\"dataframe\">\n",
       "  <thead>\n",
       "    <tr style=\"text-align: right;\">\n",
       "      <th></th>\n",
       "      <th>PRODUIT</th>\n",
       "      <th>PERIODE</th>\n",
       "      <th>QUANTITE</th>\n",
       "      <th>PRODUIT_ENCODED</th>\n",
       "    </tr>\n",
       "  </thead>\n",
       "  <tbody>\n",
       "    <tr>\n",
       "      <th>0</th>\n",
       "      <td>PI106</td>\n",
       "      <td>4</td>\n",
       "      <td>18.30</td>\n",
       "      <td>747</td>\n",
       "    </tr>\n",
       "    <tr>\n",
       "      <th>1</th>\n",
       "      <td>70298</td>\n",
       "      <td>4</td>\n",
       "      <td>324.29</td>\n",
       "      <td>39</td>\n",
       "    </tr>\n",
       "    <tr>\n",
       "      <th>2</th>\n",
       "      <td>RO047</td>\n",
       "      <td>4</td>\n",
       "      <td>204.00</td>\n",
       "      <td>772</td>\n",
       "    </tr>\n",
       "    <tr>\n",
       "      <th>3</th>\n",
       "      <td>RO060</td>\n",
       "      <td>4</td>\n",
       "      <td>150.00</td>\n",
       "      <td>780</td>\n",
       "    </tr>\n",
       "    <tr>\n",
       "      <th>4</th>\n",
       "      <td>70223</td>\n",
       "      <td>4</td>\n",
       "      <td>109.89</td>\n",
       "      <td>7</td>\n",
       "    </tr>\n",
       "  </tbody>\n",
       "</table>\n",
       "</div>"
      ],
      "text/plain": [
       "  PRODUIT  PERIODE  QUANTITE  PRODUIT_ENCODED\n",
       "0   PI106        4     18.30              747\n",
       "1   70298        4    324.29               39\n",
       "2   RO047        4    204.00              772\n",
       "3   RO060        4    150.00              780\n",
       "4   70223        4    109.89                7"
      ]
     },
     "execution_count": 14,
     "metadata": {},
     "output_type": "execute_result"
    }
   ],
   "source": [
    "df.head(5)"
   ]
  },
  {
   "cell_type": "code",
   "execution_count": 15,
   "metadata": {
    "colab": {
     "base_uri": "https://localhost:8080/",
     "height": 206
    },
    "id": "7dSjHcr-UUUa",
    "outputId": "be08a521-0040-4986-8cbe-9e6a602954e8"
   },
   "outputs": [
    {
     "data": {
      "text/html": [
       "<div>\n",
       "<style scoped>\n",
       "    .dataframe tbody tr th:only-of-type {\n",
       "        vertical-align: middle;\n",
       "    }\n",
       "\n",
       "    .dataframe tbody tr th {\n",
       "        vertical-align: top;\n",
       "    }\n",
       "\n",
       "    .dataframe thead th {\n",
       "        text-align: right;\n",
       "    }\n",
       "</style>\n",
       "<table border=\"1\" class=\"dataframe\">\n",
       "  <thead>\n",
       "    <tr style=\"text-align: right;\">\n",
       "      <th></th>\n",
       "      <th>PRODUIT_ENCODED</th>\n",
       "      <th>PERIODE</th>\n",
       "      <th>QUANTITE</th>\n",
       "    </tr>\n",
       "  </thead>\n",
       "  <tbody>\n",
       "    <tr>\n",
       "      <th>0</th>\n",
       "      <td>747</td>\n",
       "      <td>4</td>\n",
       "      <td>18.30</td>\n",
       "    </tr>\n",
       "    <tr>\n",
       "      <th>1</th>\n",
       "      <td>39</td>\n",
       "      <td>4</td>\n",
       "      <td>324.29</td>\n",
       "    </tr>\n",
       "    <tr>\n",
       "      <th>2</th>\n",
       "      <td>772</td>\n",
       "      <td>4</td>\n",
       "      <td>204.00</td>\n",
       "    </tr>\n",
       "    <tr>\n",
       "      <th>3</th>\n",
       "      <td>780</td>\n",
       "      <td>4</td>\n",
       "      <td>150.00</td>\n",
       "    </tr>\n",
       "    <tr>\n",
       "      <th>4</th>\n",
       "      <td>7</td>\n",
       "      <td>4</td>\n",
       "      <td>109.89</td>\n",
       "    </tr>\n",
       "  </tbody>\n",
       "</table>\n",
       "</div>"
      ],
      "text/plain": [
       "   PRODUIT_ENCODED  PERIODE  QUANTITE\n",
       "0              747        4     18.30\n",
       "1               39        4    324.29\n",
       "2              772        4    204.00\n",
       "3              780        4    150.00\n",
       "4                7        4    109.89"
      ]
     },
     "execution_count": 15,
     "metadata": {},
     "output_type": "execute_result"
    }
   ],
   "source": [
    "df = df[['PRODUIT_ENCODED','PERIODE','QUANTITE']]\n",
    "df.head(5)"
   ]
  },
  {
   "cell_type": "code",
   "execution_count": 16,
   "metadata": {
    "colab": {
     "base_uri": "https://localhost:8080/",
     "height": 206
    },
    "id": "ZNbm6TJv1IL-",
    "outputId": "9ce69ac7-7b19-461d-9838-f6c716d48cec"
   },
   "outputs": [
    {
     "data": {
      "text/html": [
       "<div>\n",
       "<style scoped>\n",
       "    .dataframe tbody tr th:only-of-type {\n",
       "        vertical-align: middle;\n",
       "    }\n",
       "\n",
       "    .dataframe tbody tr th {\n",
       "        vertical-align: top;\n",
       "    }\n",
       "\n",
       "    .dataframe thead th {\n",
       "        text-align: right;\n",
       "    }\n",
       "</style>\n",
       "<table border=\"1\" class=\"dataframe\">\n",
       "  <thead>\n",
       "    <tr style=\"text-align: right;\">\n",
       "      <th></th>\n",
       "      <th>PRODUIT_ENCODED</th>\n",
       "      <th>PERIODE</th>\n",
       "      <th>QUANTITE</th>\n",
       "    </tr>\n",
       "  </thead>\n",
       "  <tbody>\n",
       "    <tr>\n",
       "      <th>0</th>\n",
       "      <td>0.910976</td>\n",
       "      <td>0.272727</td>\n",
       "      <td>0.000103</td>\n",
       "    </tr>\n",
       "    <tr>\n",
       "      <th>1</th>\n",
       "      <td>0.047561</td>\n",
       "      <td>0.272727</td>\n",
       "      <td>0.001822</td>\n",
       "    </tr>\n",
       "    <tr>\n",
       "      <th>2</th>\n",
       "      <td>0.941463</td>\n",
       "      <td>0.272727</td>\n",
       "      <td>0.001146</td>\n",
       "    </tr>\n",
       "    <tr>\n",
       "      <th>3</th>\n",
       "      <td>0.951220</td>\n",
       "      <td>0.272727</td>\n",
       "      <td>0.000843</td>\n",
       "    </tr>\n",
       "    <tr>\n",
       "      <th>4</th>\n",
       "      <td>0.008537</td>\n",
       "      <td>0.272727</td>\n",
       "      <td>0.000617</td>\n",
       "    </tr>\n",
       "  </tbody>\n",
       "</table>\n",
       "</div>"
      ],
      "text/plain": [
       "   PRODUIT_ENCODED   PERIODE  QUANTITE\n",
       "0         0.910976  0.272727  0.000103\n",
       "1         0.047561  0.272727  0.001822\n",
       "2         0.941463  0.272727  0.001146\n",
       "3         0.951220  0.272727  0.000843\n",
       "4         0.008537  0.272727  0.000617"
      ]
     },
     "execution_count": 16,
     "metadata": {},
     "output_type": "execute_result"
    }
   ],
   "source": [
    "scaler = MinMaxScaler()\n",
    "df_normalized = scaler.fit_transform(df)\n",
    "df_normalized = pd.DataFrame(df_normalized, columns=df.columns)\n",
    "df_normalized.head(5)"
   ]
  },
  {
   "cell_type": "code",
   "execution_count": 33,
   "metadata": {},
   "outputs": [
    {
     "data": {
      "text/html": [
       "<div>\n",
       "<style scoped>\n",
       "    .dataframe tbody tr th:only-of-type {\n",
       "        vertical-align: middle;\n",
       "    }\n",
       "\n",
       "    .dataframe tbody tr th {\n",
       "        vertical-align: top;\n",
       "    }\n",
       "\n",
       "    .dataframe thead th {\n",
       "        text-align: right;\n",
       "    }\n",
       "</style>\n",
       "<table border=\"1\" class=\"dataframe\">\n",
       "  <thead>\n",
       "    <tr style=\"text-align: right;\">\n",
       "      <th></th>\n",
       "      <th>PRODUIT_ENCODED</th>\n",
       "      <th>PERIODE</th>\n",
       "      <th>QUANTITE</th>\n",
       "    </tr>\n",
       "  </thead>\n",
       "  <tbody>\n",
       "    <tr>\n",
       "      <th>0</th>\n",
       "      <td>1.382079</td>\n",
       "      <td>-0.852158</td>\n",
       "      <td>-0.246950</td>\n",
       "    </tr>\n",
       "    <tr>\n",
       "      <th>1</th>\n",
       "      <td>-1.288916</td>\n",
       "      <td>-0.852158</td>\n",
       "      <td>0.022803</td>\n",
       "    </tr>\n",
       "    <tr>\n",
       "      <th>2</th>\n",
       "      <td>1.476394</td>\n",
       "      <td>-0.852158</td>\n",
       "      <td>-0.083242</td>\n",
       "    </tr>\n",
       "    <tr>\n",
       "      <th>3</th>\n",
       "      <td>1.506575</td>\n",
       "      <td>-0.852158</td>\n",
       "      <td>-0.130847</td>\n",
       "    </tr>\n",
       "    <tr>\n",
       "      <th>4</th>\n",
       "      <td>-1.409639</td>\n",
       "      <td>-0.852158</td>\n",
       "      <td>-0.166207</td>\n",
       "    </tr>\n",
       "  </tbody>\n",
       "</table>\n",
       "</div>"
      ],
      "text/plain": [
       "   PRODUIT_ENCODED   PERIODE  QUANTITE\n",
       "0         1.382079 -0.852158 -0.246950\n",
       "1        -1.288916 -0.852158  0.022803\n",
       "2         1.476394 -0.852158 -0.083242\n",
       "3         1.506575 -0.852158 -0.130847\n",
       "4        -1.409639 -0.852158 -0.166207"
      ]
     },
     "execution_count": 33,
     "metadata": {},
     "output_type": "execute_result"
    }
   ],
   "source": [
    "# Standardisation des données\n",
    "scaler2 = StandardScaler()\n",
    "df_standar = scaler2.fit_transform(df)\n",
    "df_standar = pd.DataFrame(df_standar, columns=df.columns)\n",
    "df_standar.head(5)"
   ]
  },
  {
   "cell_type": "code",
   "execution_count": 17,
   "metadata": {
    "colab": {
     "base_uri": "https://localhost:8080/"
    },
    "id": "HBjHJtXWb8aw",
    "outputId": "73d06972-de24-4aec-a1d3-f5bef705b714"
   },
   "outputs": [
    {
     "data": {
      "text/plain": [
       "(180070, 3)"
      ]
     },
     "execution_count": 17,
     "metadata": {},
     "output_type": "execute_result"
    }
   ],
   "source": [
    "df_normalized.shape"
   ]
  },
  {
   "cell_type": "code",
   "execution_count": 18,
   "metadata": {
    "colab": {
     "base_uri": "https://localhost:8080/",
     "height": 206
    },
    "id": "s0SPtAmbSaV8",
    "outputId": "0cd5d0fd-8477-466e-8ada-b137cfe5831c"
   },
   "outputs": [
    {
     "data": {
      "text/html": [
       "<div>\n",
       "<style scoped>\n",
       "    .dataframe tbody tr th:only-of-type {\n",
       "        vertical-align: middle;\n",
       "    }\n",
       "\n",
       "    .dataframe tbody tr th {\n",
       "        vertical-align: top;\n",
       "    }\n",
       "\n",
       "    .dataframe thead th {\n",
       "        text-align: right;\n",
       "    }\n",
       "</style>\n",
       "<table border=\"1\" class=\"dataframe\">\n",
       "  <thead>\n",
       "    <tr style=\"text-align: right;\">\n",
       "      <th></th>\n",
       "      <th>PRODUIT_ENCODED</th>\n",
       "      <th>PERIODE</th>\n",
       "      <th>QUANTITE</th>\n",
       "    </tr>\n",
       "  </thead>\n",
       "  <tbody>\n",
       "    <tr>\n",
       "      <th>0</th>\n",
       "      <td>747.0</td>\n",
       "      <td>4.0</td>\n",
       "      <td>18.30</td>\n",
       "    </tr>\n",
       "    <tr>\n",
       "      <th>1</th>\n",
       "      <td>39.0</td>\n",
       "      <td>4.0</td>\n",
       "      <td>324.29</td>\n",
       "    </tr>\n",
       "    <tr>\n",
       "      <th>2</th>\n",
       "      <td>772.0</td>\n",
       "      <td>4.0</td>\n",
       "      <td>204.00</td>\n",
       "    </tr>\n",
       "    <tr>\n",
       "      <th>3</th>\n",
       "      <td>780.0</td>\n",
       "      <td>4.0</td>\n",
       "      <td>150.00</td>\n",
       "    </tr>\n",
       "    <tr>\n",
       "      <th>4</th>\n",
       "      <td>7.0</td>\n",
       "      <td>4.0</td>\n",
       "      <td>109.89</td>\n",
       "    </tr>\n",
       "  </tbody>\n",
       "</table>\n",
       "</div>"
      ],
      "text/plain": [
       "   PRODUIT_ENCODED  PERIODE  QUANTITE\n",
       "0            747.0      4.0     18.30\n",
       "1             39.0      4.0    324.29\n",
       "2            772.0      4.0    204.00\n",
       "3            780.0      4.0    150.00\n",
       "4              7.0      4.0    109.89"
      ]
     },
     "execution_count": 18,
     "metadata": {},
     "output_type": "execute_result"
    }
   ],
   "source": [
    "a = scaler.inverse_transform(df_normalized)\n",
    "a = pd.DataFrame(a, columns=df_normalized.columns)\n",
    "a.head(5)"
   ]
  },
  {
   "cell_type": "code",
   "execution_count": 19,
   "metadata": {
    "colab": {
     "base_uri": "https://localhost:8080/"
    },
    "id": "QqMz5IRL8N-E",
    "outputId": "24707326-bc1c-4990-a88b-5dc9012315b8"
   },
   "outputs": [
    {
     "data": {
      "text/plain": [
       "(180070, 3)"
      ]
     },
     "execution_count": 19,
     "metadata": {},
     "output_type": "execute_result"
    }
   ],
   "source": [
    "a.shape"
   ]
  },
  {
   "cell_type": "code",
   "execution_count": 20,
   "metadata": {
    "id": "7u-4I44usErP"
   },
   "outputs": [],
   "source": [
    "#Séparation des données de train et test\n",
    "X=df_normalized.drop('QUANTITE',axis=1)\n",
    "y=df_normalized['QUANTITE']\n",
    "x_train,x_test,y_train,y_test=train_test_split(X,y,test_size=0.2,random_state=42)\n"
   ]
  },
  {
   "cell_type": "code",
   "execution_count": 34,
   "metadata": {},
   "outputs": [],
   "source": [
    "#Séparation des données de train et test\n",
    "X_=df_standar.drop('QUANTITE',axis=1)\n",
    "y_=df_standar['QUANTITE']\n",
    "x_train_,x_test_,y_train_,y_test_=train_test_split(X_,y_,test_size=0.2,random_state=42)"
   ]
  },
  {
   "cell_type": "code",
   "execution_count": 35,
   "metadata": {
    "colab": {
     "base_uri": "https://localhost:8080/",
     "height": 458
    },
    "id": "1m1nXicx8U9y",
    "outputId": "370c0138-cf81-4b16-a152-eedda23e391f"
   },
   "outputs": [
    {
     "data": {
      "text/plain": [
       "10116    -0.130847\n",
       "104876   -0.122780\n",
       "35       -0.250477\n",
       "71528    -0.174926\n",
       "120999   -0.254267\n",
       "            ...   \n",
       "71774    -0.155857\n",
       "782      -0.219004\n",
       "149334    0.089547\n",
       "168937   -0.254267\n",
       "89820    -0.222002\n",
       "Name: QUANTITE, Length: 36014, dtype: float64"
      ]
     },
     "execution_count": 35,
     "metadata": {},
     "output_type": "execute_result"
    }
   ],
   "source": [
    "#print(x_train)\n",
    "y_test\n",
    "y_test_"
   ]
  },
  {
   "cell_type": "code",
   "execution_count": null,
   "metadata": {
    "id": "_IsY9fQz8LZa"
   },
   "outputs": [],
   "source": []
  },
  {
   "cell_type": "code",
   "execution_count": 22,
   "metadata": {
    "id": "3Pth4a8cv4D6"
   },
   "outputs": [],
   "source": [
    "\n",
    "#Implémentation du modlèle\n",
    "model=LinearRegression()\n",
    "model.fit(x_train,y_train)\n",
    "predictions=model.predict(x_test)"
   ]
  },
  {
   "cell_type": "code",
   "execution_count": 36,
   "metadata": {},
   "outputs": [],
   "source": [
    "#Implémentation du modlèle --Standardisation\n",
    "model_stand=LinearRegression()\n",
    "model_stand.fit(x_train,y_train)\n",
    "predictions_stand=model_stand.predict(x_test)"
   ]
  },
  {
   "cell_type": "code",
   "execution_count": 48,
   "metadata": {
    "id": "9MB8z5mhzc3W"
   },
   "outputs": [],
   "source": [
    "#Evaluation du modèle\n",
    "mse=mean_squared_error(y_test,predictions)\n",
    "mae=mean_absolute_error(y_test,predictions)\n",
    "r2=r2_score(y_test,predictions)\n",
    "mape=mean_absolute_percentage_error(y_test_,predictions_stand)\n",
    "rmse=root_mean_squared_error(y_test_,predictions_stand)\n"
   ]
  },
  {
   "cell_type": "code",
   "execution_count": 44,
   "metadata": {},
   "outputs": [],
   "source": [
    "#Evaluation du modèle\n",
    "mse_=mean_squared_error(y_test_,predictions_stand)\n",
    "mae_=mean_absolute_error(y_test_,predictions_stand)\n",
    "r2_=r2_score(y_test_,predictions_stand)\n"
   ]
  },
  {
   "cell_type": "code",
   "execution_count": 40,
   "metadata": {
    "colab": {
     "base_uri": "https://localhost:8080/"
    },
    "id": "mv_7qoJ5zp2a",
    "outputId": "787eb72b-3f14-4bc5-db1e-0fb9d882894f"
   },
   "outputs": [
    {
     "name": "stdout",
     "output_type": "stream",
     "text": [
      "mse:0.8806962616031331\n",
      "mae:0.3093050770328284\n",
      "r2:-2.1494946289557504e-06\n"
     ]
    }
   ],
   "source": [
    "print(f'mse:{mse_}')\n",
    "print(f'mae:{mae_}')\n",
    "print(f'r2:{r2_}')"
   ]
  },
  {
   "cell_type": "code",
   "execution_count": 49,
   "metadata": {},
   "outputs": [
    {
     "name": "stdout",
     "output_type": "stream",
     "text": [
      "mse:3.576550002312885e-05\n",
      "mae:0.0019645987044048423\n",
      "rmse:0.9384541872692205\n",
      "mape:1.0719716674267927\n",
      "r2:6.072122261668866e-06\n"
     ]
    }
   ],
   "source": [
    "print(f'mse:{mse}')\n",
    "print(f'mae:{mae}')\n",
    "print(f'rmse:{rmse}')\n",
    "print(f'mape:{mape}')\n",
    "print(f'r2:{r2}')"
   ]
  },
  {
   "cell_type": "code",
   "execution_count": 25,
   "metadata": {
    "colab": {
     "base_uri": "https://localhost:8080/",
     "height": 206
    },
    "id": "cbbwCNUCE320",
    "outputId": "b924d743-5c03-4fd1-ff51-b51d2a5fb40b"
   },
   "outputs": [
    {
     "data": {
      "text/html": [
       "<div>\n",
       "<style scoped>\n",
       "    .dataframe tbody tr th:only-of-type {\n",
       "        vertical-align: middle;\n",
       "    }\n",
       "\n",
       "    .dataframe tbody tr th {\n",
       "        vertical-align: top;\n",
       "    }\n",
       "\n",
       "    .dataframe thead th {\n",
       "        text-align: right;\n",
       "    }\n",
       "</style>\n",
       "<table border=\"1\" class=\"dataframe\">\n",
       "  <thead>\n",
       "    <tr style=\"text-align: right;\">\n",
       "      <th></th>\n",
       "      <th>PRODUIT_ENCODED</th>\n",
       "      <th>PERIODE</th>\n",
       "    </tr>\n",
       "  </thead>\n",
       "  <tbody>\n",
       "    <tr>\n",
       "      <th>10116</th>\n",
       "      <td>0.107317</td>\n",
       "      <td>0.363636</td>\n",
       "    </tr>\n",
       "    <tr>\n",
       "      <th>104876</th>\n",
       "      <td>0.898780</td>\n",
       "      <td>0.909091</td>\n",
       "    </tr>\n",
       "    <tr>\n",
       "      <th>35</th>\n",
       "      <td>0.067073</td>\n",
       "      <td>0.272727</td>\n",
       "    </tr>\n",
       "    <tr>\n",
       "      <th>71528</th>\n",
       "      <td>0.065854</td>\n",
       "      <td>0.454545</td>\n",
       "    </tr>\n",
       "    <tr>\n",
       "      <th>120999</th>\n",
       "      <td>0.536585</td>\n",
       "      <td>0.000000</td>\n",
       "    </tr>\n",
       "  </tbody>\n",
       "</table>\n",
       "</div>"
      ],
      "text/plain": [
       "        PRODUIT_ENCODED   PERIODE\n",
       "10116          0.107317  0.363636\n",
       "104876         0.898780  0.909091\n",
       "35             0.067073  0.272727\n",
       "71528          0.065854  0.454545\n",
       "120999         0.536585  0.000000"
      ]
     },
     "execution_count": 25,
     "metadata": {},
     "output_type": "execute_result"
    }
   ],
   "source": [
    "x_test.head(5)"
   ]
  },
  {
   "cell_type": "code",
   "execution_count": 26,
   "metadata": {
    "colab": {
     "base_uri": "https://localhost:8080/",
     "height": 206
    },
    "id": "h-Cffw8t-gYq",
    "outputId": "c1313cda-b533-4140-b2f9-7687b869e707"
   },
   "outputs": [
    {
     "data": {
      "text/html": [
       "<div>\n",
       "<style scoped>\n",
       "    .dataframe tbody tr th:only-of-type {\n",
       "        vertical-align: middle;\n",
       "    }\n",
       "\n",
       "    .dataframe tbody tr th {\n",
       "        vertical-align: top;\n",
       "    }\n",
       "\n",
       "    .dataframe thead th {\n",
       "        text-align: right;\n",
       "    }\n",
       "</style>\n",
       "<table border=\"1\" class=\"dataframe\">\n",
       "  <thead>\n",
       "    <tr style=\"text-align: right;\">\n",
       "      <th></th>\n",
       "      <th>PRODUIT_ENCODED</th>\n",
       "      <th>PERIODE</th>\n",
       "      <th>QUANTITE</th>\n",
       "      <th>predictions</th>\n",
       "    </tr>\n",
       "  </thead>\n",
       "  <tbody>\n",
       "    <tr>\n",
       "      <th>10116</th>\n",
       "      <td>0.107317</td>\n",
       "      <td>0.363636</td>\n",
       "      <td>0.000843</td>\n",
       "      <td>0.001670</td>\n",
       "    </tr>\n",
       "    <tr>\n",
       "      <th>104876</th>\n",
       "      <td>0.898780</td>\n",
       "      <td>0.909091</td>\n",
       "      <td>0.000894</td>\n",
       "      <td>0.001682</td>\n",
       "    </tr>\n",
       "    <tr>\n",
       "      <th>35</th>\n",
       "      <td>0.067073</td>\n",
       "      <td>0.272727</td>\n",
       "      <td>0.000080</td>\n",
       "      <td>0.001670</td>\n",
       "    </tr>\n",
       "    <tr>\n",
       "      <th>71528</th>\n",
       "      <td>0.065854</td>\n",
       "      <td>0.454545</td>\n",
       "      <td>0.000562</td>\n",
       "      <td>0.001668</td>\n",
       "    </tr>\n",
       "    <tr>\n",
       "      <th>120999</th>\n",
       "      <td>0.536585</td>\n",
       "      <td>0.000000</td>\n",
       "      <td>0.000056</td>\n",
       "      <td>0.001682</td>\n",
       "    </tr>\n",
       "  </tbody>\n",
       "</table>\n",
       "</div>"
      ],
      "text/plain": [
       "        PRODUIT_ENCODED   PERIODE  QUANTITE  predictions\n",
       "10116          0.107317  0.363636  0.000843     0.001670\n",
       "104876         0.898780  0.909091  0.000894     0.001682\n",
       "35             0.067073  0.272727  0.000080     0.001670\n",
       "71528          0.065854  0.454545  0.000562     0.001668\n",
       "120999         0.536585  0.000000  0.000056     0.001682"
      ]
     },
     "execution_count": 26,
     "metadata": {},
     "output_type": "execute_result"
    }
   ],
   "source": [
    "#Resultat\n",
    "resultats = pd.DataFrame({\n",
    "    'PRODUIT_ENCODED': x_test['PRODUIT_ENCODED'],\n",
    "    'PERIODE': x_test['PERIODE'],\n",
    "    'QUANTITE': y_test,\n",
    "    'predictions': predictions\n",
    "})\n",
    "resultats.head(5)"
   ]
  },
  {
   "cell_type": "markdown",
   "metadata": {
    "id": "YGYD8cMJg8jn"
   },
   "source": [
    "## Evaluation des performances du modèle"
   ]
  },
  {
   "cell_type": "code",
   "execution_count": 53,
   "metadata": {},
   "outputs": [
    {
     "name": "stdout",
     "output_type": "stream",
     "text": [
      "Mean Squared Error (MSE): 1178621.6409817617\n",
      "        Vraie Quantité  Quantité Prédite\n",
      "10116           150.00         96.622697\n",
      "104876          159.15        104.994346\n",
      "35               14.30         99.972629\n",
      "71528           100.00         96.612154\n",
      "120999           10.00         58.619945\n"
     ]
    }
   ],
   "source": [
    "#Modèle SVr\n",
    "X = df[['PRODUIT_ENCODED', 'PERIODE']]  # Variables explicatives\n",
    "y = df['QUANTITE']  # Variable cible\n",
    "\n",
    "# 1. Normalisation des données d'entrée (SVR est sensible à l'échelle des données)\n",
    "scaler = StandardScaler()\n",
    "X_scaled = scaler.fit_transform(X)\n",
    "\n",
    "# 2. Division des données en ensembles d'entraînement et de test\n",
    "X_train, X_test, y_train, y_test = train_test_split(X_scaled, y, test_size=0.2, random_state=42)\n",
    "svr = SVR(kernel='rbf')  # On utilise le noyau RBF pour la régression non linéaire\n",
    "svr.fit(X_train, y_train)\n",
    "\n",
    "# 4. Prédictions avec le modèle\n",
    "y_pred = svr.predict(X_test)\n",
    "\n",
    "# 5. Évaluation du modèle\n",
    "mse = mean_squared_error(y_test, y_pred)\n",
    "print(f\"Mean Squared Error (MSE): {mse}\")\n",
    "\n",
    "# Optionnel: Affichage des prédictions comparées aux valeurs réelles\n",
    "comparison = pd.DataFrame({'Vraie Quantité': y_test, 'Quantité Prédite': y_pred})\n",
    "print(comparison.head())"
   ]
  },
  {
   "cell_type": "code",
   "execution_count": 30,
   "metadata": {
    "colab": {
     "base_uri": "https://localhost:8080/",
     "height": 304
    },
    "id": "9cwr85VIg721",
    "outputId": "46c9da91-2bad-42bb-8e29-9daa30a294f6"
   },
   "outputs": [
    {
     "ename": "ValueError",
     "evalue": "continuous is not supported",
     "output_type": "error",
     "traceback": [
      "\u001b[1;31m---------------------------------------------------------------------------\u001b[0m",
      "\u001b[1;31mValueError\u001b[0m                                Traceback (most recent call last)",
      "Cell \u001b[1;32mIn[30], line 1\u001b[0m\n\u001b[1;32m----> 1\u001b[0m accuracy_score \u001b[38;5;241m=\u001b[39m \u001b[43maccuracy_score\u001b[49m\u001b[43m(\u001b[49m\u001b[43my_test\u001b[49m\u001b[43m,\u001b[49m\u001b[43m \u001b[49m\u001b[43mpredictions\u001b[49m\u001b[43m,\u001b[49m\u001b[43m \u001b[49m\u001b[43mnormalize\u001b[49m\u001b[38;5;241;43m=\u001b[39;49m\u001b[38;5;28;43;01mTrue\u001b[39;49;00m\u001b[43m)\u001b[49m\n",
      "File \u001b[1;32md:\\Fabrice\\Master_2_BIHAR\\DATASET_PFE\\pfe_env\\Lib\\site-packages\\sklearn\\utils\\_param_validation.py:213\u001b[0m, in \u001b[0;36mvalidate_params.<locals>.decorator.<locals>.wrapper\u001b[1;34m(*args, **kwargs)\u001b[0m\n\u001b[0;32m    207\u001b[0m \u001b[38;5;28;01mtry\u001b[39;00m:\n\u001b[0;32m    208\u001b[0m     \u001b[38;5;28;01mwith\u001b[39;00m config_context(\n\u001b[0;32m    209\u001b[0m         skip_parameter_validation\u001b[38;5;241m=\u001b[39m(\n\u001b[0;32m    210\u001b[0m             prefer_skip_nested_validation \u001b[38;5;129;01mor\u001b[39;00m global_skip_validation\n\u001b[0;32m    211\u001b[0m         )\n\u001b[0;32m    212\u001b[0m     ):\n\u001b[1;32m--> 213\u001b[0m         \u001b[38;5;28;01mreturn\u001b[39;00m \u001b[43mfunc\u001b[49m\u001b[43m(\u001b[49m\u001b[38;5;241;43m*\u001b[39;49m\u001b[43margs\u001b[49m\u001b[43m,\u001b[49m\u001b[43m \u001b[49m\u001b[38;5;241;43m*\u001b[39;49m\u001b[38;5;241;43m*\u001b[39;49m\u001b[43mkwargs\u001b[49m\u001b[43m)\u001b[49m\n\u001b[0;32m    214\u001b[0m \u001b[38;5;28;01mexcept\u001b[39;00m InvalidParameterError \u001b[38;5;28;01mas\u001b[39;00m e:\n\u001b[0;32m    215\u001b[0m     \u001b[38;5;66;03m# When the function is just a wrapper around an estimator, we allow\u001b[39;00m\n\u001b[0;32m    216\u001b[0m     \u001b[38;5;66;03m# the function to delegate validation to the estimator, but we replace\u001b[39;00m\n\u001b[0;32m    217\u001b[0m     \u001b[38;5;66;03m# the name of the estimator by the name of the function in the error\u001b[39;00m\n\u001b[0;32m    218\u001b[0m     \u001b[38;5;66;03m# message to avoid confusion.\u001b[39;00m\n\u001b[0;32m    219\u001b[0m     msg \u001b[38;5;241m=\u001b[39m re\u001b[38;5;241m.\u001b[39msub(\n\u001b[0;32m    220\u001b[0m         \u001b[38;5;124mr\u001b[39m\u001b[38;5;124m\"\u001b[39m\u001b[38;5;124mparameter of \u001b[39m\u001b[38;5;124m\\\u001b[39m\u001b[38;5;124mw+ must be\u001b[39m\u001b[38;5;124m\"\u001b[39m,\n\u001b[0;32m    221\u001b[0m         \u001b[38;5;124mf\u001b[39m\u001b[38;5;124m\"\u001b[39m\u001b[38;5;124mparameter of \u001b[39m\u001b[38;5;132;01m{\u001b[39;00mfunc\u001b[38;5;241m.\u001b[39m\u001b[38;5;18m__qualname__\u001b[39m\u001b[38;5;132;01m}\u001b[39;00m\u001b[38;5;124m must be\u001b[39m\u001b[38;5;124m\"\u001b[39m,\n\u001b[0;32m    222\u001b[0m         \u001b[38;5;28mstr\u001b[39m(e),\n\u001b[0;32m    223\u001b[0m     )\n",
      "File \u001b[1;32md:\\Fabrice\\Master_2_BIHAR\\DATASET_PFE\\pfe_env\\Lib\\site-packages\\sklearn\\metrics\\_classification.py:231\u001b[0m, in \u001b[0;36maccuracy_score\u001b[1;34m(y_true, y_pred, normalize, sample_weight)\u001b[0m\n\u001b[0;32m    229\u001b[0m xp, _, device \u001b[38;5;241m=\u001b[39m get_namespace_and_device(y_true, y_pred, sample_weight)\n\u001b[0;32m    230\u001b[0m \u001b[38;5;66;03m# Compute accuracy for each possible representation\u001b[39;00m\n\u001b[1;32m--> 231\u001b[0m y_type, y_true, y_pred \u001b[38;5;241m=\u001b[39m \u001b[43m_check_targets\u001b[49m\u001b[43m(\u001b[49m\u001b[43my_true\u001b[49m\u001b[43m,\u001b[49m\u001b[43m \u001b[49m\u001b[43my_pred\u001b[49m\u001b[43m)\u001b[49m\n\u001b[0;32m    232\u001b[0m check_consistent_length(y_true, y_pred, sample_weight)\n\u001b[0;32m    233\u001b[0m \u001b[38;5;28;01mif\u001b[39;00m y_type\u001b[38;5;241m.\u001b[39mstartswith(\u001b[38;5;124m\"\u001b[39m\u001b[38;5;124mmultilabel\u001b[39m\u001b[38;5;124m\"\u001b[39m):\n",
      "File \u001b[1;32md:\\Fabrice\\Master_2_BIHAR\\DATASET_PFE\\pfe_env\\Lib\\site-packages\\sklearn\\metrics\\_classification.py:123\u001b[0m, in \u001b[0;36m_check_targets\u001b[1;34m(y_true, y_pred)\u001b[0m\n\u001b[0;32m    121\u001b[0m \u001b[38;5;66;03m# No metrics support \"multiclass-multioutput\" format\u001b[39;00m\n\u001b[0;32m    122\u001b[0m \u001b[38;5;28;01mif\u001b[39;00m y_type \u001b[38;5;129;01mnot\u001b[39;00m \u001b[38;5;129;01min\u001b[39;00m [\u001b[38;5;124m\"\u001b[39m\u001b[38;5;124mbinary\u001b[39m\u001b[38;5;124m\"\u001b[39m, \u001b[38;5;124m\"\u001b[39m\u001b[38;5;124mmulticlass\u001b[39m\u001b[38;5;124m\"\u001b[39m, \u001b[38;5;124m\"\u001b[39m\u001b[38;5;124mmultilabel-indicator\u001b[39m\u001b[38;5;124m\"\u001b[39m]:\n\u001b[1;32m--> 123\u001b[0m     \u001b[38;5;28;01mraise\u001b[39;00m \u001b[38;5;167;01mValueError\u001b[39;00m(\u001b[38;5;124m\"\u001b[39m\u001b[38;5;132;01m{0}\u001b[39;00m\u001b[38;5;124m is not supported\u001b[39m\u001b[38;5;124m\"\u001b[39m\u001b[38;5;241m.\u001b[39mformat(y_type))\n\u001b[0;32m    125\u001b[0m \u001b[38;5;28;01mif\u001b[39;00m y_type \u001b[38;5;129;01min\u001b[39;00m [\u001b[38;5;124m\"\u001b[39m\u001b[38;5;124mbinary\u001b[39m\u001b[38;5;124m\"\u001b[39m, \u001b[38;5;124m\"\u001b[39m\u001b[38;5;124mmulticlass\u001b[39m\u001b[38;5;124m\"\u001b[39m]:\n\u001b[0;32m    126\u001b[0m     xp, _ \u001b[38;5;241m=\u001b[39m get_namespace(y_true, y_pred)\n",
      "\u001b[1;31mValueError\u001b[0m: continuous is not supported"
     ]
    }
   ],
   "source": [
    "accuracy_score = accuracy_score(y_test, predictions, normalize=True)"
   ]
  },
  {
   "cell_type": "code",
   "execution_count": 28,
   "metadata": {
    "colab": {
     "base_uri": "https://localhost:8080/",
     "height": 356
    },
    "id": "mSVA2RoKhrq6",
    "outputId": "b1c9cdcb-633e-4b2a-f8b0-02dd14886c01"
   },
   "outputs": [],
   "source": [
    "# precision_score = precision_score(y_test, predictions)\n",
    "# recall_score = recall_score(y_test, predictions)\n",
    "# f1_score = f1_score(y_test, predictions)\n",
    "# confusion_matrix = confusion_matrix(y_test, predictions)"
   ]
  }
 ],
 "metadata": {
  "colab": {
   "provenance": []
  },
  "kernelspec": {
   "display_name": "pfe_env",
   "language": "python",
   "name": "python3"
  },
  "language_info": {
   "codemirror_mode": {
    "name": "ipython",
    "version": 3
   },
   "file_extension": ".py",
   "mimetype": "text/x-python",
   "name": "python",
   "nbconvert_exporter": "python",
   "pygments_lexer": "ipython3",
   "version": "3.11.9"
  }
 },
 "nbformat": 4,
 "nbformat_minor": 0
}
